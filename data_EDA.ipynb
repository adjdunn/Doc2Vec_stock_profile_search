{
 "cells": [
  {
   "cell_type": "markdown",
   "metadata": {},
   "source": [
    "# Doc2Vec for Stock Profile Search"
   ]
  },
  {
   "cell_type": "markdown",
   "metadata": {},
   "source": [
    "Using document vectors to search for public companies with similar profiles / company descriptions. "
   ]
  },
  {
   "cell_type": "code",
   "execution_count": 1,
   "metadata": {},
   "outputs": [],
   "source": [
    "import pandas as pd"
   ]
  },
  {
   "cell_type": "code",
   "execution_count": 13,
   "metadata": {},
   "outputs": [],
   "source": [
    "#Get Data.\n",
    "\n",
    "data = pd.read_csv('company_profiles.csv')"
   ]
  },
  {
   "cell_type": "code",
   "execution_count": 14,
   "metadata": {},
   "outputs": [
    {
     "data": {
      "text/html": [
       "<div>\n",
       "<style scoped>\n",
       "    .dataframe tbody tr th:only-of-type {\n",
       "        vertical-align: middle;\n",
       "    }\n",
       "\n",
       "    .dataframe tbody tr th {\n",
       "        vertical-align: top;\n",
       "    }\n",
       "\n",
       "    .dataframe thead th {\n",
       "        text-align: right;\n",
       "    }\n",
       "</style>\n",
       "<table border=\"1\" class=\"dataframe\">\n",
       "  <thead>\n",
       "    <tr style=\"text-align: right;\">\n",
       "      <th></th>\n",
       "      <th>Unnamed: 0</th>\n",
       "      <th>companyName</th>\n",
       "      <th>symbol</th>\n",
       "      <th>sector</th>\n",
       "      <th>industry</th>\n",
       "      <th>description</th>\n",
       "      <th>isActivelyTrading</th>\n",
       "      <th>isEtf</th>\n",
       "      <th>mktCap</th>\n",
       "      <th>market</th>\n",
       "    </tr>\n",
       "  </thead>\n",
       "  <tbody>\n",
       "    <tr>\n",
       "      <th>0</th>\n",
       "      <td>1</td>\n",
       "      <td>Comcast Corp</td>\n",
       "      <td>CMCSA</td>\n",
       "      <td>Communication Services</td>\n",
       "      <td>Entertainment</td>\n",
       "      <td>Comcast Corporation operates as a media and te...</td>\n",
       "      <td>True</td>\n",
       "      <td>False</td>\n",
       "      <td>2.553507e+11</td>\n",
       "      <td>US</td>\n",
       "    </tr>\n",
       "    <tr>\n",
       "      <th>1</th>\n",
       "      <td>2</td>\n",
       "      <td>Kinder Morgan Inc</td>\n",
       "      <td>KMI</td>\n",
       "      <td>Energy</td>\n",
       "      <td>Oil &amp; Gas Midstream</td>\n",
       "      <td>Kinder Morgan, Inc. operates as an energy infr...</td>\n",
       "      <td>True</td>\n",
       "      <td>False</td>\n",
       "      <td>3.943789e+10</td>\n",
       "      <td>US</td>\n",
       "    </tr>\n",
       "    <tr>\n",
       "      <th>2</th>\n",
       "      <td>3</td>\n",
       "      <td>Intel Corp</td>\n",
       "      <td>INTC</td>\n",
       "      <td>Technology</td>\n",
       "      <td>Semiconductors</td>\n",
       "      <td>Intel Corporation designs, manufactures, and s...</td>\n",
       "      <td>True</td>\n",
       "      <td>False</td>\n",
       "      <td>2.348501e+11</td>\n",
       "      <td>US</td>\n",
       "    </tr>\n",
       "    <tr>\n",
       "      <th>3</th>\n",
       "      <td>4</td>\n",
       "      <td>Micron Technology Inc</td>\n",
       "      <td>MU</td>\n",
       "      <td>Technology</td>\n",
       "      <td>Semiconductors</td>\n",
       "      <td>Micron Technology, Inc. designs, manufactures,...</td>\n",
       "      <td>True</td>\n",
       "      <td>False</td>\n",
       "      <td>9.774297e+10</td>\n",
       "      <td>US</td>\n",
       "    </tr>\n",
       "    <tr>\n",
       "      <th>4</th>\n",
       "      <td>6</td>\n",
       "      <td>General Electric Co</td>\n",
       "      <td>GE</td>\n",
       "      <td>Industrials</td>\n",
       "      <td>Specialty Industrial Machinery</td>\n",
       "      <td>General Electric Company operates as a high-te...</td>\n",
       "      <td>True</td>\n",
       "      <td>False</td>\n",
       "      <td>1.153952e+11</td>\n",
       "      <td>US</td>\n",
       "    </tr>\n",
       "  </tbody>\n",
       "</table>\n",
       "</div>"
      ],
      "text/plain": [
       "   Unnamed: 0            companyName symbol                  sector  \\\n",
       "0           1           Comcast Corp  CMCSA  Communication Services   \n",
       "1           2      Kinder Morgan Inc    KMI                  Energy   \n",
       "2           3             Intel Corp   INTC              Technology   \n",
       "3           4  Micron Technology Inc     MU              Technology   \n",
       "4           6    General Electric Co     GE             Industrials   \n",
       "\n",
       "                         industry  \\\n",
       "0                   Entertainment   \n",
       "1             Oil & Gas Midstream   \n",
       "2                  Semiconductors   \n",
       "3                  Semiconductors   \n",
       "4  Specialty Industrial Machinery   \n",
       "\n",
       "                                         description  isActivelyTrading  \\\n",
       "0  Comcast Corporation operates as a media and te...               True   \n",
       "1  Kinder Morgan, Inc. operates as an energy infr...               True   \n",
       "2  Intel Corporation designs, manufactures, and s...               True   \n",
       "3  Micron Technology, Inc. designs, manufactures,...               True   \n",
       "4  General Electric Company operates as a high-te...               True   \n",
       "\n",
       "   isEtf        mktCap market  \n",
       "0  False  2.553507e+11     US  \n",
       "1  False  3.943789e+10     US  \n",
       "2  False  2.348501e+11     US  \n",
       "3  False  9.774297e+10     US  \n",
       "4  False  1.153952e+11     US  "
      ]
     },
     "execution_count": 14,
     "metadata": {},
     "output_type": "execute_result"
    }
   ],
   "source": [
    "data.head()"
   ]
  },
  {
   "cell_type": "code",
   "execution_count": 15,
   "metadata": {},
   "outputs": [
    {
     "data": {
      "text/plain": [
       "Index(['Unnamed: 0', 'companyName', 'symbol', 'sector', 'industry',\n",
       "       'description', 'isActivelyTrading', 'isEtf', 'mktCap', 'market'],\n",
       "      dtype='object')"
      ]
     },
     "execution_count": 15,
     "metadata": {},
     "output_type": "execute_result"
    }
   ],
   "source": [
    "#Column names.\n",
    "data.columns"
   ]
  },
  {
   "cell_type": "code",
   "execution_count": 16,
   "metadata": {},
   "outputs": [
    {
     "data": {
      "text/plain": [
       "18598"
      ]
     },
     "execution_count": 16,
     "metadata": {},
     "output_type": "execute_result"
    }
   ],
   "source": [
    "#Number of rows\n",
    "data.shape[0]"
   ]
  },
  {
   "cell_type": "code",
   "execution_count": 17,
   "metadata": {},
   "outputs": [
    {
     "data": {
      "text/plain": [
       "18598"
      ]
     },
     "execution_count": 17,
     "metadata": {},
     "output_type": "execute_result"
    }
   ],
   "source": [
    "#Number of companies that are actively trading and not ETFs. \n",
    "new_data = data[(data['isEtf'] == False) & (data['isActivelyTrading'] == True)]\n",
    "new_data.shape[0]"
   ]
  },
  {
   "cell_type": "code",
   "execution_count": 18,
   "metadata": {},
   "outputs": [
    {
     "data": {
      "text/plain": [
       "8749"
      ]
     },
     "execution_count": 18,
     "metadata": {},
     "output_type": "execute_result"
    }
   ],
   "source": [
    "#Number of companies in U.S. market\n",
    "data[data.market == 'US'].shape[0]"
   ]
  },
  {
   "cell_type": "code",
   "execution_count": 19,
   "metadata": {},
   "outputs": [
    {
     "data": {
      "text/plain": [
       "{'CAN', 'INT', 'US'}"
      ]
     },
     "execution_count": 19,
     "metadata": {},
     "output_type": "execute_result"
    }
   ],
   "source": [
    "#Different markets in data.\n",
    "set(data.market)"
   ]
  },
  {
   "cell_type": "code",
   "execution_count": 20,
   "metadata": {},
   "outputs": [
    {
     "name": "stdout",
     "output_type": "stream",
     "text": [
      "<class 'pandas.core.frame.DataFrame'>\n",
      "RangeIndex: 18598 entries, 0 to 18597\n",
      "Data columns (total 10 columns):\n",
      "Unnamed: 0           18598 non-null int64\n",
      "companyName          18594 non-null object\n",
      "symbol               18597 non-null object\n",
      "sector               16327 non-null object\n",
      "industry             16326 non-null object\n",
      "description          18023 non-null object\n",
      "isActivelyTrading    18598 non-null bool\n",
      "isEtf                18598 non-null bool\n",
      "mktCap               18596 non-null float64\n",
      "market               18598 non-null object\n",
      "dtypes: bool(2), float64(1), int64(1), object(6)\n",
      "memory usage: 1.2+ MB\n"
     ]
    }
   ],
   "source": [
    "#How many rows contain company descriptions.\n",
    "data.info()"
   ]
  },
  {
   "cell_type": "code",
   "execution_count": 24,
   "metadata": {},
   "outputs": [],
   "source": [
    "#Remove all rows with no description.\n",
    "new_data = new_data.dropna(subset=['description'], how='any').reset_index(drop=True)"
   ]
  },
  {
   "cell_type": "code",
   "execution_count": 25,
   "metadata": {},
   "outputs": [
    {
     "name": "stdout",
     "output_type": "stream",
     "text": [
      "<class 'pandas.core.frame.DataFrame'>\n",
      "RangeIndex: 18023 entries, 0 to 18022\n",
      "Data columns (total 11 columns):\n",
      "index                18023 non-null int64\n",
      "Unnamed: 0           18023 non-null int64\n",
      "companyName          18022 non-null object\n",
      "symbol               18022 non-null object\n",
      "sector               16168 non-null object\n",
      "industry             16177 non-null object\n",
      "description          18023 non-null object\n",
      "isActivelyTrading    18023 non-null bool\n",
      "isEtf                18023 non-null bool\n",
      "mktCap               18021 non-null float64\n",
      "market               18023 non-null object\n",
      "dtypes: bool(2), float64(1), int64(2), object(6)\n",
      "memory usage: 1.3+ MB\n"
     ]
    }
   ],
   "source": [
    "new_data.info()"
   ]
  },
  {
   "cell_type": "code",
   "execution_count": 32,
   "metadata": {},
   "outputs": [
    {
     "name": "stdout",
     "output_type": "stream",
     "text": [
      "Average: 937.6663152638296\n",
      "Smallest: 40\n",
      "Largest: 4977\n"
     ]
    }
   ],
   "source": [
    "#Average, smallest and largest length of company description\n",
    "\n",
    "print('Average: %s' % (new_data.description.str.len().mean()))\n",
    "print('Smallest: %s' % (new_data.description.str.len().min()))\n",
    "print('Largest: %s' % (new_data.description.str.len().max()))"
   ]
  },
  {
   "cell_type": "code",
   "execution_count": null,
   "metadata": {},
   "outputs": [],
   "source": []
  }
 ],
 "metadata": {
  "kernelspec": {
   "display_name": "Python 3",
   "language": "python",
   "name": "python3"
  },
  "language_info": {
   "codemirror_mode": {
    "name": "ipython",
    "version": 3
   },
   "file_extension": ".py",
   "mimetype": "text/x-python",
   "name": "python",
   "nbconvert_exporter": "python",
   "pygments_lexer": "ipython3",
   "version": "3.6.3"
  }
 },
 "nbformat": 4,
 "nbformat_minor": 2
}
